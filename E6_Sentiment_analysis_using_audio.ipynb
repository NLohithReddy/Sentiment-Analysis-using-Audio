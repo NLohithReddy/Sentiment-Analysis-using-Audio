{
  "nbformat": 4,
  "nbformat_minor": 0,
  "metadata": {
    "colab": {
      "private_outputs": true,
      "provenance": [],
      "authorship_tag": "ABX9TyNl7N1jl24gt8K2SQ8JcIq7",
      "include_colab_link": true
    },
    "kernelspec": {
      "name": "python3",
      "display_name": "Python 3"
    },
    "language_info": {
      "name": "python"
    }
  },
  "cells": [
    {
      "cell_type": "markdown",
      "metadata": {
        "id": "view-in-github",
        "colab_type": "text"
      },
      "source": [
        "<a href=\"https://colab.research.google.com/github/NLohithReddy/Sentiment-Analysis-using-Audio/blob/main/E6_Sentiment_analysis_using_audio.ipynb\" target=\"_parent\"><img src=\"https://colab.research.google.com/assets/colab-badge.svg\" alt=\"Open In Colab\"/></a>"
      ]
    },
    {
      "cell_type": "code",
      "execution_count": null,
      "metadata": {
        "id": "uNKIGiTfM7N6"
      },
      "outputs": [],
      "source": [
        "!pip install SpeechRecognition\n",
        "!pip install textblob\n",
        "\n",
        "import speech_recognition as sr\n",
        "from textblob import TextBlob\n",
        "\n",
        "def analyze_sentiment(text):\n",
        "    analysis = TextBlob(text)\n",
        "    polarity = analysis.sentiment.polarity\n",
        "    if polarity > 0:\n",
        "        return 'positive'\n",
        "    elif polarity < 0:\n",
        "        return 'negative'\n",
        "    else:\n",
        "        return 'neutral'\n",
        "\n",
        "def audio_to_text(audio_file):\n",
        "    recognizer = sr.Recognizer()\n",
        "    with sr.AudioFile(audio_file) as source:\n",
        "        try:\n",
        "            audio_data = recognizer.record(source)\n",
        "            text = recognizer.recognize_google(audio_data)\n",
        "            return text\n",
        "        except sr.UnknownValueError:\n",
        "            print(\"Google Speech Recognition could not understand audio\")\n",
        "            return \"\"\n",
        "        except sr.RequestError as e:\n",
        "            print(\"Could not request results from Google Speech Recognition service; {0}\".format(e))\n",
        "            return \"\"\n",
        "\n",
        "def analyze_audio_sentiment(audio_file):\n",
        "    text = audio_to_text(audio_file)\n",
        "    if text:\n",
        "        sentiment = analyze_sentiment(text)\n",
        "        print(\"Transcribed Text:\", text)\n",
        "        print(\"Sentiment:\", sentiment)\n",
        "    else:\n",
        "        print(\"Unable to transcribe audio\")\n",
        "\n",
        "if __name__ == \"__main__\":\n",
        "    audio_file_path = \"/content/harvard.wav\"\n",
        "    analyze_audio_sentiment(audio_file_path)\n"
      ]
    }
  ]
}